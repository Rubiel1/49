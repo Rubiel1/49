{
 "cells": [
  {
   "cell_type": "markdown",
   "metadata": {},
   "source": [
    "# Conjecture 49\n",
    "## $49\\times 2^{n}$ has always an odd digit.\n",
    "\n",
    "Disclaimer: I understand that there may be $n$ big enough where this conjecture fails. Here I will keep track of our attemps to prove/disprove this conjecture.\n",
    "\n",
    "History of conjecture: I was watching \"Downtown Abbey\" with Mikhail Safronov and Harsh Taneja when  Mika asked me if for every $a$, there is $n$ such that $a\\times2^n$ has only even digits. He likes to ask this kind of questions all the time. We found that up to 48 there is always such a $n$.\n",
    "\n",
    "Let's focus on the last digits of the number. The following program tell us the first number with all the lasst 'k' digits even, k<27."
   ]
  },
  {
   "cell_type": "code",
   "execution_count": 1,
   "metadata": {
    "collapsed": false
   },
   "outputs": [
    {
     "name": "stdout",
     "output_type": "stream",
     "text": [
      "    1 (even digits): 49x2^              1 mod 10^33 =                                                98\n",
      "    2 (even digits): 49x2^              4 mod 10^33 =                                               784\n",
      "    3 (even digits): 49x2^              9 mod 10^33 =                                             25088\n",
      "    4 (even digits): 49x2^             20 mod 10^33 =                                          51380224\n",
      "    5 (even digits): 49x2^             20 mod 10^33 =                                          51380224\n",
      "    6 (even digits): 49x2^             49 mod 10^33 =                                 27584547717644288\n",
      "    7 (even digits): 49x2^             56 mod 10^33 =                               3530822107858468864\n",
      "    8 (even digits): 49x2^             80 mod 10^33 =                        59237365161116829560602624\n",
      "    9 (even digits): 49x2^            429 mod 10^33 =                9663386084668554387509809866866688\n",
      "   10 (even digits): 49x2^           1541 mod 10^33 =                2332661133323391783464212048642048\n",
      "   11 (even digits): 49x2^           1956 mod 10^33 =                1791676642205817175299688826404864\n",
      "   12 (even digits): 49x2^           1956 mod 10^33 =                1791676642205817175299688826404864\n",
      "   13 (even digits): 49x2^           2253 mod 10^33 =                1599200494712115706564644446404608\n",
      "   14 (even digits): 49x2^           2253 mod 10^33 =                1599200494712115706564644446404608\n",
      "   15 (even digits): 49x2^          55536 mod 10^33 =                5947094374490236668460800424280064\n",
      "   16 (even digits): 49x2^          55536 mod 10^33 =                5947094374490236668460800424280064\n",
      "   17 (even digits): 49x2^          55536 mod 10^33 =                5947094374490236668460800424280064\n",
      "   18 (even digits): 49x2^          55536 mod 10^33 =                5947094374490236668460800424280064\n",
      "   19 (even digits): 49x2^          55536 mod 10^33 =                5947094374490236668460800424280064\n",
      "   20 (even digits): 49x2^         314041 mod 10^33 =                1286037299640202046428026448642048\n",
      "   21 (even digits): 49x2^         314041 mod 10^33 =                1286037299640202046428026448642048\n",
      "   22 (even digits): 49x2^         314041 mod 10^33 =                1286037299640202046428026448642048\n",
      "   23 (even digits): 49x2^         314041 mod 10^33 =                1286037299640202046428026448642048\n",
      "   24 (even digits): 49x2^         314041 mod 10^33 =                1286037299640202046428026448642048\n",
      "   25 (even digits): 49x2^        5467620 mod 10^33 =                9143757524224060828888086268084224\n",
      "   26 (even digits): 49x2^        5467620 mod 10^33 =                9143757524224060828888086268084224\n",
      "   27 (even digits): 49x2^       84998841 mod 10^33 =                9191024242666060820884660628226048\n",
      "   28 (even digits): 49x2^       84998841 mod 10^33 =                9191024242666060820884660628226048\n",
      "   29 (even digits): 49x2^       84998841 mod 10^33 =                9191024242666060820884660628226048\n",
      "   30 (even digits): 49x2^       84998841 mod 10^33 =                9191024242666060820884660628226048\n",
      "   31 (even digits): 49x2^     3958111553 mod 10^33 =                6700846248426460822648248082628608\n",
      "   32 (even digits): 49x2^     3958111553 mod 10^33 =                6700846248426460822648248082628608\n",
      "   33 (even digits): 49x2^    11735320821 mod 10^33 =                3646068424868220468006048600424448\n",
      "The last 33 digits of 49x2^11735320821 mod 10^33=3646068424868220468006048600424448 are even\n",
      "++++++++++++++++++++++++++++++++++++++Update 6/1/2018++++++++++++++++++++++++++++++++++++++++++++++++++",
      "31 last digits of 49x2^3958111553 mod 10^50 = 54767040424036856700846248426460822648248082628608\n",
      "32 last digits of 49x2^3958111553 mod 10^50 = 54767040424036856700846248426460822648248082628608\n",
      "33 last digits of 49x2^11735320821 mod 10^50 = 431465651852216213646068424868220468006048600424448\n",
      "34 last digits of 49x2^17598278849 mod 10^50 = 476827337342639618406008226800248462842002080268288\n",
      "35 last digits of 49x2^37533295636 mod 10^50 = 803885992630628464206404884446660208026006600024064\n",
      "36 last digits of 49x2^37533295636 mod 10^50 = 803885992630628464206404884446660208026006600024064\n",
      "37 last digits of 49x2^37533295636 mod 10^50 = 803885992630628464206404884446660208026006600024064\n",
      "38 last digits of 49x2^37533295636 mod 10^50 = 803885992630628464206404884446660208026006600024064\n",
      "39 last digits of 49x2^37533295636 mod 10^50 = 803885992630628464206404884446660208026006600024064\n",
      "40 last digits of 49x2^37533295636 mod 10^50 = 803885992630628464206404884446660208026006600024064\n"
     ]
    },
    {
     "data": {
      "text/plain": [
       "11735320821"
      ]
     },
     "execution_count": 1,
     "metadata": {},
     "output_type": "execute_result"
    }
   ],
   "source": [
    "import os, time, copy\n",
    "def upto (limit = 0):\n",
    "    lista = [] #We keep track of the first time we get an odd digit, just for curiosity. We could recover the digit itself.\n",
    "    #limit = 0\n",
    "    value = 49\n",
    "    times = 0\n",
    "    ndigits=1\n",
    "    while True:\n",
    "        times = times + 1\n",
    "        digits = 0\n",
    "        value = 2*value\n",
    "        value = value % (10**(limit+1))  #we add one to illustrate that the next is odd.\n",
    "        #print(value)\n",
    "        vcopy = copy.copy(value% (10**(limit)))#We only care about the last \"limit\" digits,\n",
    "        while (vcopy != 0) & (vcopy % 2 != 1): #Here we analyse if the digits are even.\n",
    "            vcopy = vcopy // 10\n",
    "            digits = digits + 1\n",
    "            if digits == ndigits:#We use dynamic programming ideas.\n",
    "                print(\" {0:>4} (even digits): 49x2^{1:>15} mod 10^{3} ={2:>50}\".format(ndigits,times,value, limit))\n",
    "                ndigits = ndigits+1  \n",
    "        if vcopy == 0:\n",
    "            print(\"The last {0} digits of 49x2^{1} mod 10^{0}={2} are even\".format(limit,times,value))\n",
    "            return times\n",
    "\n",
    "upto(33)"
   ]
  },
  {
   "cell_type": "code",
   "execution_count": null,
   "metadata": {
    "collapsed": true
   },
   "outputs": [],
   "source": []
  },
  {
   "cell_type": "markdown",
   "metadata": {},
   "source": [
    "You can give the number of last digits that you want to test:"
   ]
  },
  {
   "cell_type": "code",
   "execution_count": null,
   "metadata": {
    "collapsed": false
   },
   "outputs": [],
   "source": [
    "upto()"
   ]
  },
  {
   "cell_type": "markdown",
   "metadata": {},
   "source": [
    "If you have any suggestion to improve this code, or prove/disprove the conjecture, please let me know: eric.rubiel at u.northwestern.edu"
   ]
  },
  {
   "cell_type": "code",
   "execution_count": null,
   "metadata": {
    "collapsed": true
   },
   "outputs": [],
   "source": []
  }
 ],
 "metadata": {
  "anaconda-cloud": {},
  "kernelspec": {
   "display_name": "Python [default]",
   "language": "python",
   "name": "python3"
  },
  "language_info": {
   "codemirror_mode": {
    "name": "ipython",
    "version": 3
   },
   "file_extension": ".py",
   "mimetype": "text/x-python",
   "name": "python",
   "nbconvert_exporter": "python",
   "pygments_lexer": "ipython3",
   "version": "3.5.2"
  }
 },
 "nbformat": 4,
 "nbformat_minor": 1
}
