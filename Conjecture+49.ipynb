{
 "cells": [
  {
   "cell_type": "markdown",
   "metadata": {},
   "source": [
    "# Conjecture 49\n",
    "## $49\\times 2^{n}$ has always an odd digit.\n",
    "\n",
    "Disclaimer: I understand that there may be $n$ big enough where this conjecture fails. Here I will keep track of our attemps to prove/disprove this conjecture.\n",
    "\n",
    "History of conjecture: I was watching \"Downtown Abbey\" with Mikhail Safronov and Harsh Taneja when  Mika asked me if for every $a$, there is $n$ such that $a\\times2^n$ has only even digits. He likes to ask this kind of questions all the time. We found that up to 48 there is always such a $n$.\n",
    "\n",
    "Let's focus on the last digits of the number. The following program tell us the first number with all the lasst 'k' digits even, k<27."
   ]
  },
  {
   "cell_type": "code",
   "execution_count": 4,
   "metadata": {
    "collapsed": false
   },
   "outputs": [
    {
     "name": "stdout",
     "output_type": "stream",
     "text": [
      "    1 (digit): 49x2^              1 mod 10^26 =                                                98\n",
      "    2 (even digits): 49x2^              4 mod 10^26 =                                               784\n",
      "    3 (even digits): 49x2^              9 mod 10^26 =                                             25088\n",
      "    4 (even digits): 49x2^             20 mod 10^26 =                                          51380224\n",
      "    5 (even digits): 49x2^             20 mod 10^26 =                                          51380224\n",
      "    6 (even digits): 49x2^             49 mod 10^26 =                                 27584547717644288\n",
      "    7 (even digits): 49x2^             56 mod 10^26 =                               3530822107858468864\n",
      "    8 (even digits): 49x2^             80 mod 10^26 =                        59237365161116829560602624\n",
      "    9 (even digits): 49x2^            429 mod 10^26 =                        84668554387509809866866688\n",
      "   10 (even digits): 49x2^           1541 mod 10^26 =                       133323391783464212048642048\n",
      "   11 (even digits): 49x2^           1956 mod 10^26 =                       642205817175299688826404864\n",
      "   12 (even digits): 49x2^           1956 mod 10^26 =                       642205817175299688826404864\n",
      "   13 (even digits): 49x2^           2253 mod 10^26 =                       494712115706564644446404608\n",
      "   14 (even digits): 49x2^           2253 mod 10^26 =                       494712115706564644446404608\n",
      "   15 (even digits): 49x2^          55536 mod 10^26 =                       374490236668460800424280064\n",
      "   16 (even digits): 49x2^          55536 mod 10^26 =                       374490236668460800424280064\n",
      "   17 (even digits): 49x2^          55536 mod 10^26 =                       374490236668460800424280064\n",
      "   18 (even digits): 49x2^          55536 mod 10^26 =                       374490236668460800424280064\n",
      "   19 (even digits): 49x2^          55536 mod 10^26 =                       374490236668460800424280064\n",
      "   20 (even digits): 49x2^         314041 mod 10^26 =                       299640202046428026448642048\n",
      "   21 (even digits): 49x2^         314041 mod 10^26 =                       299640202046428026448642048\n",
      "   22 (even digits): 49x2^         314041 mod 10^26 =                       299640202046428026448642048\n",
      "   23 (even digits): 49x2^         314041 mod 10^26 =                       299640202046428026448642048\n",
      "   24 (even digits): 49x2^         314041 mod 10^26 =                       299640202046428026448642048\n",
      "   25 (even digits): 49x2^        5467620 mod 10^26 =                       524224060828888086268084224\n",
      "   26 (even digits): 49x2^        5467620 mod 10^26 =                       524224060828888086268084224\n",
      "The last 26 digits of 49x2^5467620 mod 10^26=524224060828888086268084224 are even\n"
     ]
    },
    {
     "data": {
      "text/plain": [
       "5467620"
      ]
     },
     "execution_count": 4,
     "metadata": {},
     "output_type": "execute_result"
    }
   ],
   "source": [
    "import os, time, copy\n",
    "def upto (limit = 0):\n",
    "    lista = [] #We keep track of the first time we get an odd digit, just for curiosity. We could recover the digit itself.\n",
    "    #limit = 0\n",
    "    value = 49\n",
    "    times = 0\n",
    "    ndigits=1\n",
    "    while limit == 0:\n",
    "        try:\n",
    "            limit = int(input(\"How many digits do you want to test? \"))       \n",
    "        except ValueError:\n",
    "            print(\"Let me see...\")\n",
    "            continue\n",
    "        else:\n",
    "            print(\"This program only accepts integers.\")\n",
    "            break \n",
    "    while True:\n",
    "        times = times + 1\n",
    "        digits = 0\n",
    "        value = 2*value\n",
    "        value = value % (10**(limit+1))  #we add one for pedagogical purpuses.\n",
    "        #print(value)\n",
    "        vcopy = copy.copy(value% (10**(limit)))#We only care about the last \"limit\" digits,\n",
    "        while (vcopy != 0) & (vcopy % 2 != 1): #Here we analyse if the digits are even.\n",
    "            vcopy = vcopy // 10\n",
    "            digits = digits + 1\n",
    "            if digits == ndigits:#We use dynamic programming ideas.\n",
    "                print(\" {0:>4} (digits): 49x2^{1:>15} mod 10^{3} ={2:>50}\".format(ndigits,times,value, limit))\n",
    "                ndigits = ndigits+1  \n",
    "        if vcopy == 0:\n",
    "            print(\"The last {0} digits of 49x2^{1} mod 10^{0}={2} are even\".format(limit,times,value))\n",
    "            return times\n",
    "\n",
    "upto(26)"
   ]
  },
  {
   "cell_type": "markdown",
   "metadata": {},
   "source": [
    "You can give the number of last digits that you want to test:"
   ]
  },
  {
   "cell_type": "code",
   "execution_count": null,
   "metadata": {
    "collapsed": false
   },
   "outputs": [],
   "source": [
    "upto()"
   ]
  },
  {
   "cell_type": "markdown",
   "metadata": {},
   "source": [
    "If you have any suggestion to improve this code, or prove/disprove the conjecture, please let me know: eric.rubiel at u.northwestern.edu"
   ]
  },
  {
   "cell_type": "code",
   "execution_count": null,
   "metadata": {
    "collapsed": true
   },
   "outputs": [],
   "source": []
  }
 ],
 "metadata": {
  "anaconda-cloud": {},
  "kernelspec": {
   "display_name": "Python [default]",
   "language": "python",
   "name": "python3"
  },
  "language_info": {
   "codemirror_mode": {
    "name": "ipython",
    "version": 3
   },
   "file_extension": ".py",
   "mimetype": "text/x-python",
   "name": "python",
   "nbconvert_exporter": "python",
   "pygments_lexer": "ipython3",
   "version": "3.5.2"
  }
 },
 "nbformat": 4,
 "nbformat_minor": 1
}
